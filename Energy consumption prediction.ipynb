{
 "cells": [
  {
   "cell_type": "markdown",
   "id": "d71d0710-9b42-4808-b7cc-dbe813eedee5",
   "metadata": {},
   "source": [
    "# Energy consumption prediction"
   ]
  },
  {
   "cell_type": "code",
   "execution_count": 1,
   "id": "b9847937-b620-4801-9af8-6f510171de7e",
   "metadata": {},
   "outputs": [],
   "source": [
    "#importing required libraries\n",
    "import pandas as pd \n",
    "import numpy as np \n",
    "import matplotlib.pyplot as plt \n",
    "import seaborn as sns"
   ]
  },
  {
   "cell_type": "code",
   "execution_count": 3,
   "id": "a1796115-3b6f-4322-9502-24161189701b",
   "metadata": {},
   "outputs": [],
   "source": [
    "#importing the Train dataset into IDE\n",
    "train_data=pd.read_csv(\"E:\\\\DATA-SETS\\\\energy consumption\\\\train_energy_data.csv\")"
   ]
  },
  {
   "cell_type": "code",
   "execution_count": 4,
   "id": "86aca460-0499-4e80-8672-dcd7466ae10e",
   "metadata": {},
   "outputs": [
    {
     "data": {
      "text/html": [
       "<div>\n",
       "<style scoped>\n",
       "    .dataframe tbody tr th:only-of-type {\n",
       "        vertical-align: middle;\n",
       "    }\n",
       "\n",
       "    .dataframe tbody tr th {\n",
       "        vertical-align: top;\n",
       "    }\n",
       "\n",
       "    .dataframe thead th {\n",
       "        text-align: right;\n",
       "    }\n",
       "</style>\n",
       "<table border=\"1\" class=\"dataframe\">\n",
       "  <thead>\n",
       "    <tr style=\"text-align: right;\">\n",
       "      <th></th>\n",
       "      <th>Building Type</th>\n",
       "      <th>Square Footage</th>\n",
       "      <th>Number of Occupants</th>\n",
       "      <th>Appliances Used</th>\n",
       "      <th>Average Temperature</th>\n",
       "      <th>Day of Week</th>\n",
       "      <th>Energy Consumption</th>\n",
       "    </tr>\n",
       "  </thead>\n",
       "  <tbody>\n",
       "    <tr>\n",
       "      <th>0</th>\n",
       "      <td>Residential</td>\n",
       "      <td>7063</td>\n",
       "      <td>76</td>\n",
       "      <td>10</td>\n",
       "      <td>29.84</td>\n",
       "      <td>Weekday</td>\n",
       "      <td>2713.95</td>\n",
       "    </tr>\n",
       "    <tr>\n",
       "      <th>1</th>\n",
       "      <td>Commercial</td>\n",
       "      <td>44372</td>\n",
       "      <td>66</td>\n",
       "      <td>45</td>\n",
       "      <td>16.72</td>\n",
       "      <td>Weekday</td>\n",
       "      <td>5744.99</td>\n",
       "    </tr>\n",
       "    <tr>\n",
       "      <th>2</th>\n",
       "      <td>Industrial</td>\n",
       "      <td>19255</td>\n",
       "      <td>37</td>\n",
       "      <td>17</td>\n",
       "      <td>14.30</td>\n",
       "      <td>Weekend</td>\n",
       "      <td>4101.24</td>\n",
       "    </tr>\n",
       "    <tr>\n",
       "      <th>3</th>\n",
       "      <td>Residential</td>\n",
       "      <td>13265</td>\n",
       "      <td>14</td>\n",
       "      <td>41</td>\n",
       "      <td>32.82</td>\n",
       "      <td>Weekday</td>\n",
       "      <td>3009.14</td>\n",
       "    </tr>\n",
       "    <tr>\n",
       "      <th>4</th>\n",
       "      <td>Commercial</td>\n",
       "      <td>13375</td>\n",
       "      <td>26</td>\n",
       "      <td>18</td>\n",
       "      <td>11.92</td>\n",
       "      <td>Weekday</td>\n",
       "      <td>3279.17</td>\n",
       "    </tr>\n",
       "  </tbody>\n",
       "</table>\n",
       "</div>"
      ],
      "text/plain": [
       "  Building Type  Square Footage  Number of Occupants  Appliances Used  \\\n",
       "0   Residential            7063                   76               10   \n",
       "1    Commercial           44372                   66               45   \n",
       "2    Industrial           19255                   37               17   \n",
       "3   Residential           13265                   14               41   \n",
       "4    Commercial           13375                   26               18   \n",
       "\n",
       "   Average Temperature Day of Week  Energy Consumption  \n",
       "0                29.84     Weekday             2713.95  \n",
       "1                16.72     Weekday             5744.99  \n",
       "2                14.30     Weekend             4101.24  \n",
       "3                32.82     Weekday             3009.14  \n",
       "4                11.92     Weekday             3279.17  "
      ]
     },
     "execution_count": 4,
     "metadata": {},
     "output_type": "execute_result"
    }
   ],
   "source": [
    "#First five records of the dataset\n",
    "train_data.head()"
   ]
  },
  {
   "cell_type": "code",
   "execution_count": 6,
   "id": "8612829c-1f36-44e8-bc87-72b23f72ee9d",
   "metadata": {},
   "outputs": [
    {
     "name": "stdout",
     "output_type": "stream",
     "text": [
      "Total records in train data: 1000\n",
      "Total features in train data: 7\n"
     ]
    }
   ],
   "source": [
    "#count of total records and features in train data\n",
    "print(\"Total records in train data:\",train_data.shape[0])\n",
    "print(\"Total features in train data:\",train_data.shape[1])"
   ]
  },
  {
   "cell_type": "code",
   "execution_count": 7,
   "id": "2ed27f66-8311-4ac4-9915-e03141a4ef75",
   "metadata": {},
   "outputs": [
    {
     "name": "stdout",
     "output_type": "stream",
     "text": [
      "<class 'pandas.core.frame.DataFrame'>\n",
      "RangeIndex: 1000 entries, 0 to 999\n",
      "Data columns (total 7 columns):\n",
      " #   Column               Non-Null Count  Dtype  \n",
      "---  ------               --------------  -----  \n",
      " 0   Building Type        1000 non-null   object \n",
      " 1   Square Footage       1000 non-null   int64  \n",
      " 2   Number of Occupants  1000 non-null   int64  \n",
      " 3   Appliances Used      1000 non-null   int64  \n",
      " 4   Average Temperature  1000 non-null   float64\n",
      " 5   Day of Week          1000 non-null   object \n",
      " 6   Energy Consumption   1000 non-null   float64\n",
      "dtypes: float64(2), int64(3), object(2)\n",
      "memory usage: 54.8+ KB\n"
     ]
    }
   ],
   "source": [
    "#information about the dataset\n",
    "train_data.info()"
   ]
  },
  {
   "cell_type": "code",
   "execution_count": 8,
   "id": "3491a17e-298d-4c5c-ad58-fed52ebf6822",
   "metadata": {},
   "outputs": [
    {
     "data": {
      "text/plain": [
       "Building Type          0\n",
       "Square Footage         0\n",
       "Number of Occupants    0\n",
       "Appliances Used        0\n",
       "Average Temperature    0\n",
       "Day of Week            0\n",
       "Energy Consumption     0\n",
       "dtype: int64"
      ]
     },
     "execution_count": 8,
     "metadata": {},
     "output_type": "execute_result"
    }
   ],
   "source": [
    "#checking null values in dataset\n",
    "train_data.isnull().sum()"
   ]
  },
  {
   "cell_type": "code",
   "execution_count": 35,
   "id": "c381de72-f63c-4079-9f6d-fcb655ee8d5a",
   "metadata": {},
   "outputs": [
    {
     "data": {
      "text/html": [
       "<div>\n",
       "<style scoped>\n",
       "    .dataframe tbody tr th:only-of-type {\n",
       "        vertical-align: middle;\n",
       "    }\n",
       "\n",
       "    .dataframe tbody tr th {\n",
       "        vertical-align: top;\n",
       "    }\n",
       "\n",
       "    .dataframe thead th {\n",
       "        text-align: right;\n",
       "    }\n",
       "</style>\n",
       "<table border=\"1\" class=\"dataframe\">\n",
       "  <thead>\n",
       "    <tr style=\"text-align: right;\">\n",
       "      <th></th>\n",
       "      <th>Building Type</th>\n",
       "      <th>Square Footage</th>\n",
       "      <th>Number of Occupants</th>\n",
       "      <th>Appliances Used</th>\n",
       "      <th>Average Temperature</th>\n",
       "      <th>Day of Week</th>\n",
       "      <th>Energy Consumption</th>\n",
       "    </tr>\n",
       "  </thead>\n",
       "  <tbody>\n",
       "    <tr>\n",
       "      <th>count</th>\n",
       "      <td>1000.000000</td>\n",
       "      <td>1000.000</td>\n",
       "      <td>1000.000000</td>\n",
       "      <td>1000.000000</td>\n",
       "      <td>1000.000000</td>\n",
       "      <td>1000.000000</td>\n",
       "      <td>1000.000000</td>\n",
       "    </tr>\n",
       "    <tr>\n",
       "      <th>mean</th>\n",
       "      <td>1.011000</td>\n",
       "      <td>25462.388</td>\n",
       "      <td>48.372000</td>\n",
       "      <td>25.606000</td>\n",
       "      <td>22.611390</td>\n",
       "      <td>0.493000</td>\n",
       "      <td>4166.252570</td>\n",
       "    </tr>\n",
       "    <tr>\n",
       "      <th>std</th>\n",
       "      <td>0.826778</td>\n",
       "      <td>14294.554</td>\n",
       "      <td>29.061972</td>\n",
       "      <td>14.105166</td>\n",
       "      <td>7.139943</td>\n",
       "      <td>0.500201</td>\n",
       "      <td>933.313064</td>\n",
       "    </tr>\n",
       "    <tr>\n",
       "      <th>min</th>\n",
       "      <td>0.000000</td>\n",
       "      <td>560.000</td>\n",
       "      <td>1.000000</td>\n",
       "      <td>1.000000</td>\n",
       "      <td>10.050000</td>\n",
       "      <td>0.000000</td>\n",
       "      <td>1683.950000</td>\n",
       "    </tr>\n",
       "    <tr>\n",
       "      <th>25%</th>\n",
       "      <td>0.000000</td>\n",
       "      <td>13169.750</td>\n",
       "      <td>22.000000</td>\n",
       "      <td>13.000000</td>\n",
       "      <td>16.475000</td>\n",
       "      <td>0.000000</td>\n",
       "      <td>3509.482500</td>\n",
       "    </tr>\n",
       "    <tr>\n",
       "      <th>50%</th>\n",
       "      <td>1.000000</td>\n",
       "      <td>25477.000</td>\n",
       "      <td>47.000000</td>\n",
       "      <td>26.000000</td>\n",
       "      <td>22.815000</td>\n",
       "      <td>0.000000</td>\n",
       "      <td>4175.730000</td>\n",
       "    </tr>\n",
       "    <tr>\n",
       "      <th>75%</th>\n",
       "      <td>2.000000</td>\n",
       "      <td>37446.250</td>\n",
       "      <td>73.250000</td>\n",
       "      <td>38.000000</td>\n",
       "      <td>28.850000</td>\n",
       "      <td>1.000000</td>\n",
       "      <td>4863.850000</td>\n",
       "    </tr>\n",
       "    <tr>\n",
       "      <th>max</th>\n",
       "      <td>2.000000</td>\n",
       "      <td>49997.000</td>\n",
       "      <td>99.000000</td>\n",
       "      <td>49.000000</td>\n",
       "      <td>34.990000</td>\n",
       "      <td>1.000000</td>\n",
       "      <td>6530.600000</td>\n",
       "    </tr>\n",
       "  </tbody>\n",
       "</table>\n",
       "</div>"
      ],
      "text/plain": [
       "       Building Type  Square Footage  Number of Occupants  Appliances Used  \\\n",
       "count    1000.000000        1000.000          1000.000000      1000.000000   \n",
       "mean        1.011000       25462.388            48.372000        25.606000   \n",
       "std         0.826778       14294.554            29.061972        14.105166   \n",
       "min         0.000000         560.000             1.000000         1.000000   \n",
       "25%         0.000000       13169.750            22.000000        13.000000   \n",
       "50%         1.000000       25477.000            47.000000        26.000000   \n",
       "75%         2.000000       37446.250            73.250000        38.000000   \n",
       "max         2.000000       49997.000            99.000000        49.000000   \n",
       "\n",
       "       Average Temperature  Day of Week  Energy Consumption  \n",
       "count          1000.000000  1000.000000         1000.000000  \n",
       "mean             22.611390     0.493000         4166.252570  \n",
       "std               7.139943     0.500201          933.313064  \n",
       "min              10.050000     0.000000         1683.950000  \n",
       "25%              16.475000     0.000000         3509.482500  \n",
       "50%              22.815000     0.000000         4175.730000  \n",
       "75%              28.850000     1.000000         4863.850000  \n",
       "max              34.990000     1.000000         6530.600000  "
      ]
     },
     "execution_count": 35,
     "metadata": {},
     "output_type": "execute_result"
    }
   ],
   "source": [
    "train_data.describe()"
   ]
  },
  {
   "cell_type": "code",
   "execution_count": 9,
   "id": "55e37662-efb3-412c-90c1-1df0f099e324",
   "metadata": {},
   "outputs": [],
   "source": [
    "#importing the Test dataset into IDE\n",
    "test_data=pd.read_csv(\"E:\\\\DATA-SETS\\\\energy consumption\\\\test_energy_data.csv\")"
   ]
  },
  {
   "cell_type": "code",
   "execution_count": 16,
   "id": "2766c678-9087-4dd8-ad0a-b0f7190d6a12",
   "metadata": {},
   "outputs": [
    {
     "name": "stdout",
     "output_type": "stream",
     "text": [
      "Total records in test data  : 100\n",
      "Total features in test data : 7\n"
     ]
    }
   ],
   "source": [
    "#count of total records and features in train data\n",
    "print(\"Total records in test data  :\",test_data.shape[0])\n",
    "print(\"Total features in test data :\",test_data.shape[1])"
   ]
  },
  {
   "cell_type": "code",
   "execution_count": 17,
   "id": "1919e9a7-666d-4d9d-98d6-baa0d7a6a808",
   "metadata": {},
   "outputs": [
    {
     "data": {
      "text/plain": [
       "Building Type          0\n",
       "Square Footage         0\n",
       "Number of Occupants    0\n",
       "Appliances Used        0\n",
       "Average Temperature    0\n",
       "Day of Week            0\n",
       "Energy Consumption     0\n",
       "dtype: int64"
      ]
     },
     "execution_count": 17,
     "metadata": {},
     "output_type": "execute_result"
    }
   ],
   "source": [
    "#checking null values in dataset\n",
    "test_data.isnull().sum()"
   ]
  },
  {
   "cell_type": "code",
   "execution_count": 18,
   "id": "4fbc2414-d040-4fa5-9858-85643969ce50",
   "metadata": {},
   "outputs": [
    {
     "data": {
      "text/plain": [
       "Index(['Building Type', 'Square Footage', 'Number of Occupants',\n",
       "       'Appliances Used', 'Average Temperature', 'Day of Week',\n",
       "       'Energy Consumption'],\n",
       "      dtype='object')"
      ]
     },
     "execution_count": 18,
     "metadata": {},
     "output_type": "execute_result"
    }
   ],
   "source": [
    "#columns in dataset\n",
    "train_data.columns"
   ]
  },
  {
   "cell_type": "code",
   "execution_count": 19,
   "id": "1f8f8d35-cffa-46a7-90ca-825694e65953",
   "metadata": {},
   "outputs": [],
   "source": [
    "#encode categorical data into numeric\n",
    "from sklearn.preprocessing import LabelEncoder"
   ]
  },
  {
   "cell_type": "code",
   "execution_count": 20,
   "id": "723ef06c-5467-43e5-a71f-e4cda26a8d65",
   "metadata": {},
   "outputs": [],
   "source": [
    "le=LabelEncoder()"
   ]
  },
  {
   "cell_type": "code",
   "execution_count": 113,
   "id": "4e994e30-f3e4-41e9-b7ea-9cce3c7661ef",
   "metadata": {},
   "outputs": [],
   "source": [
    "#encoding categorical data into numeric\n",
    "train_data[train_data.select_dtypes(include=[\"object\"]).columns]=train_data[train_data.select_dtypes(include=[\"object\"]).columns].apply(le.fit_transform)"
   ]
  },
  {
   "cell_type": "code",
   "execution_count": 112,
   "id": "a3037737-6eaa-4750-896b-46f9ce6dd261",
   "metadata": {},
   "outputs": [],
   "source": [
    "#encoding categorical data into numeric\n",
    "test_data[test_data.select_dtypes(include=[\"object\"]).columns]=test_data[test_data.select_dtypes(include=[\"object\"]).columns].apply(le.fit_transform)"
   ]
  },
  {
   "cell_type": "code",
   "execution_count": 23,
   "id": "9ab098b2-094c-442a-b6d1-c10fd92cb065",
   "metadata": {},
   "outputs": [
    {
     "data": {
      "text/html": [
       "<div>\n",
       "<style scoped>\n",
       "    .dataframe tbody tr th:only-of-type {\n",
       "        vertical-align: middle;\n",
       "    }\n",
       "\n",
       "    .dataframe tbody tr th {\n",
       "        vertical-align: top;\n",
       "    }\n",
       "\n",
       "    .dataframe thead th {\n",
       "        text-align: right;\n",
       "    }\n",
       "</style>\n",
       "<table border=\"1\" class=\"dataframe\">\n",
       "  <thead>\n",
       "    <tr style=\"text-align: right;\">\n",
       "      <th></th>\n",
       "      <th>Building Type</th>\n",
       "      <th>Square Footage</th>\n",
       "      <th>Number of Occupants</th>\n",
       "      <th>Appliances Used</th>\n",
       "      <th>Average Temperature</th>\n",
       "      <th>Day of Week</th>\n",
       "      <th>Energy Consumption</th>\n",
       "    </tr>\n",
       "  </thead>\n",
       "  <tbody>\n",
       "    <tr>\n",
       "      <th>0</th>\n",
       "      <td>2</td>\n",
       "      <td>7063</td>\n",
       "      <td>76</td>\n",
       "      <td>10</td>\n",
       "      <td>29.84</td>\n",
       "      <td>0</td>\n",
       "      <td>2713.95</td>\n",
       "    </tr>\n",
       "    <tr>\n",
       "      <th>1</th>\n",
       "      <td>0</td>\n",
       "      <td>44372</td>\n",
       "      <td>66</td>\n",
       "      <td>45</td>\n",
       "      <td>16.72</td>\n",
       "      <td>0</td>\n",
       "      <td>5744.99</td>\n",
       "    </tr>\n",
       "    <tr>\n",
       "      <th>2</th>\n",
       "      <td>1</td>\n",
       "      <td>19255</td>\n",
       "      <td>37</td>\n",
       "      <td>17</td>\n",
       "      <td>14.30</td>\n",
       "      <td>1</td>\n",
       "      <td>4101.24</td>\n",
       "    </tr>\n",
       "    <tr>\n",
       "      <th>3</th>\n",
       "      <td>2</td>\n",
       "      <td>13265</td>\n",
       "      <td>14</td>\n",
       "      <td>41</td>\n",
       "      <td>32.82</td>\n",
       "      <td>0</td>\n",
       "      <td>3009.14</td>\n",
       "    </tr>\n",
       "    <tr>\n",
       "      <th>4</th>\n",
       "      <td>0</td>\n",
       "      <td>13375</td>\n",
       "      <td>26</td>\n",
       "      <td>18</td>\n",
       "      <td>11.92</td>\n",
       "      <td>0</td>\n",
       "      <td>3279.17</td>\n",
       "    </tr>\n",
       "  </tbody>\n",
       "</table>\n",
       "</div>"
      ],
      "text/plain": [
       "   Building Type  Square Footage  Number of Occupants  Appliances Used  \\\n",
       "0              2            7063                   76               10   \n",
       "1              0           44372                   66               45   \n",
       "2              1           19255                   37               17   \n",
       "3              2           13265                   14               41   \n",
       "4              0           13375                   26               18   \n",
       "\n",
       "   Average Temperature  Day of Week  Energy Consumption  \n",
       "0                29.84            0             2713.95  \n",
       "1                16.72            0             5744.99  \n",
       "2                14.30            1             4101.24  \n",
       "3                32.82            0             3009.14  \n",
       "4                11.92            0             3279.17  "
      ]
     },
     "execution_count": 23,
     "metadata": {},
     "output_type": "execute_result"
    }
   ],
   "source": [
    "train_data.head()"
   ]
  },
  {
   "cell_type": "code",
   "execution_count": 24,
   "id": "c8e6f04a-f1c5-4d4f-8810-65be9b430623",
   "metadata": {},
   "outputs": [
    {
     "data": {
      "text/html": [
       "<div>\n",
       "<style scoped>\n",
       "    .dataframe tbody tr th:only-of-type {\n",
       "        vertical-align: middle;\n",
       "    }\n",
       "\n",
       "    .dataframe tbody tr th {\n",
       "        vertical-align: top;\n",
       "    }\n",
       "\n",
       "    .dataframe thead th {\n",
       "        text-align: right;\n",
       "    }\n",
       "</style>\n",
       "<table border=\"1\" class=\"dataframe\">\n",
       "  <thead>\n",
       "    <tr style=\"text-align: right;\">\n",
       "      <th></th>\n",
       "      <th>Building Type</th>\n",
       "      <th>Square Footage</th>\n",
       "      <th>Number of Occupants</th>\n",
       "      <th>Appliances Used</th>\n",
       "      <th>Average Temperature</th>\n",
       "      <th>Day of Week</th>\n",
       "      <th>Energy Consumption</th>\n",
       "    </tr>\n",
       "  </thead>\n",
       "  <tbody>\n",
       "    <tr>\n",
       "      <th>0</th>\n",
       "      <td>2</td>\n",
       "      <td>24563</td>\n",
       "      <td>15</td>\n",
       "      <td>4</td>\n",
       "      <td>28.52</td>\n",
       "      <td>0</td>\n",
       "      <td>2865.57</td>\n",
       "    </tr>\n",
       "    <tr>\n",
       "      <th>1</th>\n",
       "      <td>0</td>\n",
       "      <td>27583</td>\n",
       "      <td>56</td>\n",
       "      <td>23</td>\n",
       "      <td>23.07</td>\n",
       "      <td>1</td>\n",
       "      <td>4283.80</td>\n",
       "    </tr>\n",
       "    <tr>\n",
       "      <th>2</th>\n",
       "      <td>0</td>\n",
       "      <td>45313</td>\n",
       "      <td>4</td>\n",
       "      <td>44</td>\n",
       "      <td>33.56</td>\n",
       "      <td>0</td>\n",
       "      <td>5067.83</td>\n",
       "    </tr>\n",
       "    <tr>\n",
       "      <th>3</th>\n",
       "      <td>2</td>\n",
       "      <td>41625</td>\n",
       "      <td>84</td>\n",
       "      <td>17</td>\n",
       "      <td>27.39</td>\n",
       "      <td>1</td>\n",
       "      <td>4624.30</td>\n",
       "    </tr>\n",
       "    <tr>\n",
       "      <th>4</th>\n",
       "      <td>2</td>\n",
       "      <td>36720</td>\n",
       "      <td>58</td>\n",
       "      <td>47</td>\n",
       "      <td>17.08</td>\n",
       "      <td>0</td>\n",
       "      <td>4820.59</td>\n",
       "    </tr>\n",
       "  </tbody>\n",
       "</table>\n",
       "</div>"
      ],
      "text/plain": [
       "   Building Type  Square Footage  Number of Occupants  Appliances Used  \\\n",
       "0              2           24563                   15                4   \n",
       "1              0           27583                   56               23   \n",
       "2              0           45313                    4               44   \n",
       "3              2           41625                   84               17   \n",
       "4              2           36720                   58               47   \n",
       "\n",
       "   Average Temperature  Day of Week  Energy Consumption  \n",
       "0                28.52            0             2865.57  \n",
       "1                23.07            1             4283.80  \n",
       "2                33.56            0             5067.83  \n",
       "3                27.39            1             4624.30  \n",
       "4                17.08            0             4820.59  "
      ]
     },
     "execution_count": 24,
     "metadata": {},
     "output_type": "execute_result"
    }
   ],
   "source": [
    "test_data.head()"
   ]
  },
  {
   "cell_type": "code",
   "execution_count": 25,
   "id": "7d23f669-ce2f-4f4e-b601-66d410878591",
   "metadata": {},
   "outputs": [
    {
     "name": "stdout",
     "output_type": "stream",
     "text": [
      "<class 'pandas.core.frame.DataFrame'>\n",
      "RangeIndex: 1000 entries, 0 to 999\n",
      "Data columns (total 7 columns):\n",
      " #   Column               Non-Null Count  Dtype  \n",
      "---  ------               --------------  -----  \n",
      " 0   Building Type        1000 non-null   int32  \n",
      " 1   Square Footage       1000 non-null   int64  \n",
      " 2   Number of Occupants  1000 non-null   int64  \n",
      " 3   Appliances Used      1000 non-null   int64  \n",
      " 4   Average Temperature  1000 non-null   float64\n",
      " 5   Day of Week          1000 non-null   int32  \n",
      " 6   Energy Consumption   1000 non-null   float64\n",
      "dtypes: float64(2), int32(2), int64(3)\n",
      "memory usage: 47.0 KB\n"
     ]
    }
   ],
   "source": [
    "train_data.info()"
   ]
  },
  {
   "cell_type": "code",
   "execution_count": 26,
   "id": "5b11801a-9687-4b20-b50a-6f9650b61202",
   "metadata": {},
   "outputs": [
    {
     "name": "stdout",
     "output_type": "stream",
     "text": [
      "<class 'pandas.core.frame.DataFrame'>\n",
      "RangeIndex: 100 entries, 0 to 99\n",
      "Data columns (total 7 columns):\n",
      " #   Column               Non-Null Count  Dtype  \n",
      "---  ------               --------------  -----  \n",
      " 0   Building Type        100 non-null    int32  \n",
      " 1   Square Footage       100 non-null    int64  \n",
      " 2   Number of Occupants  100 non-null    int64  \n",
      " 3   Appliances Used      100 non-null    int64  \n",
      " 4   Average Temperature  100 non-null    float64\n",
      " 5   Day of Week          100 non-null    int32  \n",
      " 6   Energy Consumption   100 non-null    float64\n",
      "dtypes: float64(2), int32(2), int64(3)\n",
      "memory usage: 4.8 KB\n"
     ]
    }
   ],
   "source": [
    "test_data.info()"
   ]
  },
  {
   "cell_type": "code",
   "execution_count": 30,
   "id": "d1df0fe8-d08a-4208-8652-8c463694159c",
   "metadata": {},
   "outputs": [
    {
     "data": {
      "text/html": [
       "<div>\n",
       "<style scoped>\n",
       "    .dataframe tbody tr th:only-of-type {\n",
       "        vertical-align: middle;\n",
       "    }\n",
       "\n",
       "    .dataframe tbody tr th {\n",
       "        vertical-align: top;\n",
       "    }\n",
       "\n",
       "    .dataframe thead th {\n",
       "        text-align: right;\n",
       "    }\n",
       "</style>\n",
       "<table border=\"1\" class=\"dataframe\">\n",
       "  <thead>\n",
       "    <tr style=\"text-align: right;\">\n",
       "      <th></th>\n",
       "      <th>Building Type</th>\n",
       "      <th>Square Footage</th>\n",
       "      <th>Number of Occupants</th>\n",
       "      <th>Appliances Used</th>\n",
       "      <th>Average Temperature</th>\n",
       "      <th>Day of Week</th>\n",
       "      <th>Energy Consumption</th>\n",
       "    </tr>\n",
       "  </thead>\n",
       "  <tbody>\n",
       "    <tr>\n",
       "      <th>Building Type</th>\n",
       "      <td>1.000000</td>\n",
       "      <td>0.041292</td>\n",
       "      <td>-0.002462</td>\n",
       "      <td>-0.025035</td>\n",
       "      <td>0.038325</td>\n",
       "      <td>-0.025229</td>\n",
       "      <td>-0.202358</td>\n",
       "    </tr>\n",
       "    <tr>\n",
       "      <th>Square Footage</th>\n",
       "      <td>0.041292</td>\n",
       "      <td>1.000000</td>\n",
       "      <td>0.033379</td>\n",
       "      <td>-0.013478</td>\n",
       "      <td>0.027273</td>\n",
       "      <td>0.011354</td>\n",
       "      <td>0.774873</td>\n",
       "    </tr>\n",
       "    <tr>\n",
       "      <th>Number of Occupants</th>\n",
       "      <td>-0.002462</td>\n",
       "      <td>0.033379</td>\n",
       "      <td>1.000000</td>\n",
       "      <td>0.023646</td>\n",
       "      <td>0.014122</td>\n",
       "      <td>0.014296</td>\n",
       "      <td>0.354485</td>\n",
       "    </tr>\n",
       "    <tr>\n",
       "      <th>Appliances Used</th>\n",
       "      <td>-0.025035</td>\n",
       "      <td>-0.013478</td>\n",
       "      <td>0.023646</td>\n",
       "      <td>1.000000</td>\n",
       "      <td>-0.062870</td>\n",
       "      <td>-0.009046</td>\n",
       "      <td>0.312792</td>\n",
       "    </tr>\n",
       "    <tr>\n",
       "      <th>Average Temperature</th>\n",
       "      <td>0.038325</td>\n",
       "      <td>0.027273</td>\n",
       "      <td>0.014122</td>\n",
       "      <td>-0.062870</td>\n",
       "      <td>1.000000</td>\n",
       "      <td>-0.011106</td>\n",
       "      <td>-0.034487</td>\n",
       "    </tr>\n",
       "    <tr>\n",
       "      <th>Day of Week</th>\n",
       "      <td>-0.025229</td>\n",
       "      <td>0.011354</td>\n",
       "      <td>0.014296</td>\n",
       "      <td>-0.009046</td>\n",
       "      <td>-0.011106</td>\n",
       "      <td>1.000000</td>\n",
       "      <td>-0.004393</td>\n",
       "    </tr>\n",
       "    <tr>\n",
       "      <th>Energy Consumption</th>\n",
       "      <td>-0.202358</td>\n",
       "      <td>0.774873</td>\n",
       "      <td>0.354485</td>\n",
       "      <td>0.312792</td>\n",
       "      <td>-0.034487</td>\n",
       "      <td>-0.004393</td>\n",
       "      <td>1.000000</td>\n",
       "    </tr>\n",
       "  </tbody>\n",
       "</table>\n",
       "</div>"
      ],
      "text/plain": [
       "                     Building Type  Square Footage  Number of Occupants  \\\n",
       "Building Type             1.000000        0.041292            -0.002462   \n",
       "Square Footage            0.041292        1.000000             0.033379   \n",
       "Number of Occupants      -0.002462        0.033379             1.000000   \n",
       "Appliances Used          -0.025035       -0.013478             0.023646   \n",
       "Average Temperature       0.038325        0.027273             0.014122   \n",
       "Day of Week              -0.025229        0.011354             0.014296   \n",
       "Energy Consumption       -0.202358        0.774873             0.354485   \n",
       "\n",
       "                     Appliances Used  Average Temperature  Day of Week  \\\n",
       "Building Type              -0.025035             0.038325    -0.025229   \n",
       "Square Footage             -0.013478             0.027273     0.011354   \n",
       "Number of Occupants         0.023646             0.014122     0.014296   \n",
       "Appliances Used             1.000000            -0.062870    -0.009046   \n",
       "Average Temperature        -0.062870             1.000000    -0.011106   \n",
       "Day of Week                -0.009046            -0.011106     1.000000   \n",
       "Energy Consumption          0.312792            -0.034487    -0.004393   \n",
       "\n",
       "                     Energy Consumption  \n",
       "Building Type                 -0.202358  \n",
       "Square Footage                 0.774873  \n",
       "Number of Occupants            0.354485  \n",
       "Appliances Used                0.312792  \n",
       "Average Temperature           -0.034487  \n",
       "Day of Week                   -0.004393  \n",
       "Energy Consumption             1.000000  "
      ]
     },
     "execution_count": 30,
     "metadata": {},
     "output_type": "execute_result"
    }
   ],
   "source": [
    "#corelation between the features\n",
    "train_data.corr()"
   ]
  },
  {
   "cell_type": "code",
   "execution_count": 34,
   "id": "508bc5d7-b407-435e-93cc-edd1ecdcea66",
   "metadata": {},
   "outputs": [
    {
     "data": {
      "image/png": "[encoded data removed]",
      "text/plain": [
       "<Figure size 640x480 with 1 Axes>"
      ]
     },
     "metadata": {},
     "output_type": "display_data"
    }
   ],
   "source": [
    "plt.scatter(train_data[\"Square Footage\"],train_data[\"Energy Consumption\"])\n",
    "plt.title(\"correlation between Square Footage & Energy Consumption\")\n",
    "plt.xlabel(\"Square Footage\")\n",
    "plt.ylabel(\"Energy Consumption\")\n",
    "plt.show()"
   ]
  },
  {
   "cell_type": "code",
   "execution_count": 38,
   "id": "d18d11da-436f-48dc-951a-38a9d049f56f",
   "metadata": {},
   "outputs": [],
   "source": [
    "#splitting train dataset into x_varaible and y_variables \n",
    "train_data_x=train_data.iloc[:,:6]\n",
    "train_data_y=train_data[\"Energy Consumption\"]"
   ]
  },
  {
   "cell_type": "code",
   "execution_count": 42,
   "id": "40a63dfb-f645-4767-8445-d5ac10d9a7d2",
   "metadata": {},
   "outputs": [
    {
     "name": "stdout",
     "output_type": "stream",
     "text": [
      "(1000, 6) (1000,)\n"
     ]
    }
   ],
   "source": [
    "#dimension of dataset after split\n",
    "print(train_data_x.shape,train_data_y.shape)"
   ]
  },
  {
   "cell_type": "code",
   "execution_count": 39,
   "id": "842250c2-86cf-460f-8700-f605cfab6609",
   "metadata": {},
   "outputs": [],
   "source": [
    "#splitting test dataset into x_varaible and y_variables \n",
    "test_data_x=test_data.iloc[:,:6]\n",
    "test_data_y=test_data[\"Energy Consumption\"]"
   ]
  },
  {
   "cell_type": "code",
   "execution_count": 43,
   "id": "3915f3cf-e909-47f8-9b2c-36c32a73ec13",
   "metadata": {},
   "outputs": [
    {
     "name": "stdout",
     "output_type": "stream",
     "text": [
      "(100, 6) (100,)\n"
     ]
    }
   ],
   "source": [
    "#dimension of dataset after split\n",
    "print(test_data_x.shape,test_data_y.shape)"
   ]
  },
  {
   "cell_type": "code",
   "execution_count": 36,
   "id": "c74b5574-399b-4f8a-a823-906e8e5c68b6",
   "metadata": {},
   "outputs": [],
   "source": [
    "#import lLinearRegression for train the model\n",
    "from sklearn.linear_model import LinearRegression"
   ]
  },
  {
   "cell_type": "code",
   "execution_count": 37,
   "id": "e81794a8-1ef4-4d20-9512-a5971d1fe028",
   "metadata": {},
   "outputs": [],
   "source": [
    "lin_reg=LinearRegression()"
   ]
  },
  {
   "cell_type": "code",
   "execution_count": 44,
   "id": "2ce644b8-05c8-40dc-b6a1-826b9dd38ab7",
   "metadata": {},
   "outputs": [
    {
     "data": {
      "text/html": [
       "<style>#sk-container-id-1 {color: black;background-color: white;}#sk-container-id-1 pre{padding: 0;}#sk-container-id-1 div.sk-toggleable {background-color: white;}#sk-container-id-1 label.sk-toggleable__label {cursor: pointer;display: block;width: 100%;margin-bottom: 0;padding: 0.3em;box-sizing: border-box;text-align: center;}#sk-container-id-1 label.sk-toggleable__label-arrow:before {content: \"▸\";float: left;margin-right: 0.25em;color: #696969;}#sk-container-id-1 label.sk-toggleable__label-arrow:hover:before {color: black;}#sk-container-id-1 div.sk-estimator:hover label.sk-toggleable__label-arrow:before {color: black;}#sk-container-id-1 div.sk-toggleable__content {max-height: 0;max-width: 0;overflow: hidden;text-align: left;background-color: #f0f8ff;}#sk-container-id-1 div.sk-toggleable__content pre {margin: 0.2em;color: black;border-radius: 0.25em;background-color: #f0f8ff;}#sk-container-id-1 input.sk-toggleable__control:checked~div.sk-toggleable__content {max-height: 200px;max-width: 100%;overflow: auto;}#sk-container-id-1 input.sk-toggleable__control:checked~label.sk-toggleable__label-arrow:before {content: \"▾\";}#sk-container-id-1 div.sk-estimator input.sk-toggleable__control:checked~label.sk-toggleable__label {background-color: #d4ebff;}#sk-container-id-1 div.sk-label input.sk-toggleable__control:checked~label.sk-toggleable__label {background-color: #d4ebff;}#sk-container-id-1 input.sk-hidden--visually {border: 0;clip: rect(1px 1px 1px 1px);clip: rect(1px, 1px, 1px, 1px);height: 1px;margin: -1px;overflow: hidden;padding: 0;position: absolute;width: 1px;}#sk-container-id-1 div.sk-estimator {font-family: monospace;background-color: #f0f8ff;border: 1px dotted black;border-radius: 0.25em;box-sizing: border-box;margin-bottom: 0.5em;}#sk-container-id-1 div.sk-estimator:hover {background-color: #d4ebff;}#sk-container-id-1 div.sk-parallel-item::after {content: \"\";width: 100%;border-bottom: 1px solid gray;flex-grow: 1;}#sk-container-id-1 div.sk-label:hover label.sk-toggleable__label {background-color: #d4ebff;}#sk-container-id-1 div.sk-serial::before {content: \"\";position: absolute;border-left: 1px solid gray;box-sizing: border-box;top: 0;bottom: 0;left: 50%;z-index: 0;}#sk-container-id-1 div.sk-serial {display: flex;flex-direction: column;align-items: center;background-color: white;padding-right: 0.2em;padding-left: 0.2em;position: relative;}#sk-container-id-1 div.sk-item {position: relative;z-index: 1;}#sk-container-id-1 div.sk-parallel {display: flex;align-items: stretch;justify-content: center;background-color: white;position: relative;}#sk-container-id-1 div.sk-item::before, #sk-container-id-1 div.sk-parallel-item::before {content: \"\";position: absolute;border-left: 1px solid gray;box-sizing: border-box;top: 0;bottom: 0;left: 50%;z-index: -1;}#sk-container-id-1 div.sk-parallel-item {display: flex;flex-direction: column;z-index: 1;position: relative;background-color: white;}#sk-container-id-1 div.sk-parallel-item:first-child::after {align-self: flex-end;width: 50%;}#sk-container-id-1 div.sk-parallel-item:last-child::after {align-self: flex-start;width: 50%;}#sk-container-id-1 div.sk-parallel-item:only-child::after {width: 0;}#sk-container-id-1 div.sk-dashed-wrapped {border: 1px dashed gray;margin: 0 0.4em 0.5em 0.4em;box-sizing: border-box;padding-bottom: 0.4em;background-color: white;}#sk-container-id-1 div.sk-label label {font-family: monospace;font-weight: bold;display: inline-block;line-height: 1.2em;}#sk-container-id-1 div.sk-label-container {text-align: center;}#sk-container-id-1 div.sk-container {/* jupyter's `normalize.less` sets `[hidden] { display: none; }` but bootstrap.min.css set `[hidden] { display: none !important; }` so we also need the `!important` here to be able to override the default hidden behavior on the sphinx rendered scikit-learn.org. See: https://github.com/scikit-learn/scikit-learn/issues/21755 */display: inline-block !important;position: relative;}#sk-container-id-1 div.sk-text-repr-fallback {display: none;}</style><div id=\"sk-container-id-1\" class=\"sk-top-container\"><div class=\"sk-text-repr-fallback\"><pre>LinearRegression()</pre><b>In a Jupyter environment, please rerun this cell to show the HTML representation or trust the notebook. <br />On GitHub, the HTML representation is unable to render, please try loading this page with nbviewer.org.</b></div><div class=\"sk-container\" hidden><div class=\"sk-item\"><div class=\"sk-estimator sk-toggleable\"><input class=\"sk-toggleable__control sk-hidden--visually\" id=\"sk-estimator-id-1\" type=\"checkbox\" checked><label for=\"sk-estimator-id-1\" class=\"sk-toggleable__label sk-toggleable__label-arrow\">LinearRegression</label><div class=\"sk-toggleable__content\"><pre>LinearRegression()</pre></div></div></div></div></div>"
      ],
      "text/plain": [
       "LinearRegression()"
      ]
     },
     "execution_count": 44,
     "metadata": {},
     "output_type": "execute_result"
    }
   ],
   "source": [
    "#model training\n",
    "lin_reg.fit(train_data_x,train_data_y)"
   ]
  },
  {
   "cell_type": "code",
   "execution_count": 55,
   "id": "9309aaf0-53e2-4aa6-825b-001ee4f28bcd",
   "metadata": {},
   "outputs": [
    {
     "name": "stdout",
     "output_type": "stream",
     "text": [
      "slope: -254.33332373939083\n",
      "intercept: 2223.437706045378\n"
     ]
    }
   ],
   "source": [
    "#slope and intercept\n",
    "print(\"slope:\",lin_reg.coef_[0])\n",
    "print(\"intercept:\",lin_reg.intercept_)"
   ]
  },
  {
   "cell_type": "code",
   "execution_count": 109,
   "id": "fbcb80f9-4f86-4e3e-89bc-e2f6b61540ad",
   "metadata": {},
   "outputs": [
    {
     "name": "stdout",
     "output_type": "stream",
     "text": [
      "Rsquare Train: 0.860435189173233\n",
      "Rsquare Test: 0.8141864738600042\n"
     ]
    }
   ],
   "source": [
    "print(\"Rsquare Train:\",lin_reg.score(train_data_x,train_data_y))\n",
    "print(\"Rsquare Test:\",lin_reg.score(test_data_x,test_data_y))"
   ]
  },
  {
   "cell_type": "code",
   "execution_count": 88,
   "id": "791ee1eb-4a0a-44c5-beef-029c8d5c35e9",
   "metadata": {},
   "outputs": [],
   "source": [
    "#Prediction for train and test\n",
    "train_prediction=lin_reg.predict(train_data_x)\n",
    "test_predcition=lin_reg.predict(test_data_x)"
   ]
  },
  {
   "cell_type": "code",
   "execution_count": 79,
   "id": "fff13d96-2c7f-4df2-ac5b-460b58110490",
   "metadata": {},
   "outputs": [],
   "source": [
    "#ERROR Calculation for train and test\n",
    "error_train= train_data_y - train_prediction\n",
    "error_test= test_data_y - test_predcition"
   ]
  },
  {
   "cell_type": "code",
   "execution_count": 104,
   "id": "d1e2a9ef-5784-45c4-8e44-9e85e721d5e2",
   "metadata": {},
   "outputs": [
    {
     "name": "stdout",
     "output_type": "stream",
     "text": [
      "mean squared error train: 3.1377567211166024e-10\n",
      "mean squared error test: 127509.76507879289\n"
     ]
    }
   ],
   "source": [
    "mse_train=np.mean(np.sum(train_data_y-train_prediction))\n",
    "print(\"mean squared error train:\",mse_train)\n",
    "mse_test=np.mean(np.square(test_data_y-test_predcition))\n",
    "print(\"mean squared error test:\",mse_test)"
   ]
  },
  {
   "cell_type": "code",
   "execution_count": 108,
   "id": "9f79f7e2-8c66-40f2-ba3c-8e3e6a08edd6",
   "metadata": {},
   "outputs": [
    {
     "name": "stdout",
     "output_type": "stream",
     "text": [
      "RSME Train: 1.7713714238173208e-05\n",
      "RSME Test: 357.08509501068914\n"
     ]
    }
   ],
   "source": [
    "rsme_train=np.sqrt(mse_train)\n",
    "print(\"RSME Train:\",rsme_train)\n",
    "rsme_test=np.sqrt(mse_test)\n",
    "print(\"RSME Test:\",rsme_test)"
   ]
  },
  {
   "cell_type": "code",
   "execution_count": 110,
   "id": "1bd4f27c-e130-474b-95d0-a84d573893cb",
   "metadata": {},
   "outputs": [
    {
     "name": "stdout",
     "output_type": "stream",
     "text": [
      "Mean absolute percentage error: 8.01464320002798\n"
     ]
    }
   ],
   "source": [
    "#percentage error in test \n",
    "mape=np.mean(np.abs(error_test*100/test_data_y))\n",
    "print(\"Mean absolute percentage error:\",mape)"
   ]
  },
  {
   "cell_type": "code",
   "execution_count": 82,
   "id": "43052dcb-7115-49d6-9f03-9b08d86618f4",
   "metadata": {},
   "outputs": [],
   "source": [
    "#creating a dataframe for actual and predicted train data\n",
    "actual_predict_train=pd.DataFrame()"
   ]
  },
  {
   "cell_type": "code",
   "execution_count": 84,
   "id": "81f091c0-6df3-46bd-9aa4-209bccd53e3f",
   "metadata": {},
   "outputs": [],
   "source": [
    "actual_predict_train[\"actual\"]=train_data_y\n",
    "actual_predict_train[\"predicted\"]=train_prediction"
   ]
  },
  {
   "cell_type": "code",
   "execution_count": 85,
   "id": "a7396ee5-92fb-4dba-b6b0-79bdcaa4e5be",
   "metadata": {},
   "outputs": [
    {
     "data": {
      "text/html": [
       "<div>\n",
       "<style scoped>\n",
       "    .dataframe tbody tr th:only-of-type {\n",
       "        vertical-align: middle;\n",
       "    }\n",
       "\n",
       "    .dataframe tbody tr th {\n",
       "        vertical-align: top;\n",
       "    }\n",
       "\n",
       "    .dataframe thead th {\n",
       "        text-align: right;\n",
       "    }\n",
       "</style>\n",
       "<table border=\"1\" class=\"dataframe\">\n",
       "  <thead>\n",
       "    <tr style=\"text-align: right;\">\n",
       "      <th></th>\n",
       "      <th>actual</th>\n",
       "      <th>predicted</th>\n",
       "    </tr>\n",
       "  </thead>\n",
       "  <tbody>\n",
       "    <tr>\n",
       "      <th>0</th>\n",
       "      <td>2713.95</td>\n",
       "      <td>2935.229431</td>\n",
       "    </tr>\n",
       "    <tr>\n",
       "      <th>1</th>\n",
       "      <td>5744.99</td>\n",
       "      <td>6006.225174</td>\n",
       "    </tr>\n",
       "    <tr>\n",
       "      <th>2</th>\n",
       "      <td>4101.24</td>\n",
       "      <td>3576.147766</td>\n",
       "    </tr>\n",
       "    <tr>\n",
       "      <th>3</th>\n",
       "      <td>3009.14</td>\n",
       "      <td>3229.306524</td>\n",
       "    </tr>\n",
       "    <tr>\n",
       "      <th>4</th>\n",
       "      <td>3279.17</td>\n",
       "      <td>3487.807146</td>\n",
       "    </tr>\n",
       "  </tbody>\n",
       "</table>\n",
       "</div>"
      ],
      "text/plain": [
       "    actual    predicted\n",
       "0  2713.95  2935.229431\n",
       "1  5744.99  6006.225174\n",
       "2  4101.24  3576.147766\n",
       "3  3009.14  3229.306524\n",
       "4  3279.17  3487.807146"
      ]
     },
     "execution_count": 85,
     "metadata": {},
     "output_type": "execute_result"
    }
   ],
   "source": [
    "actual_predict_train.head()"
   ]
  },
  {
   "cell_type": "code",
   "execution_count": 86,
   "id": "bdfe2bed-8051-4d9b-8fc4-770ee604fca2",
   "metadata": {},
   "outputs": [],
   "source": [
    "actual_predict_test=pd.DataFrame()"
   ]
  },
  {
   "cell_type": "code",
   "execution_count": 111,
   "id": "cdc74a1e-0dff-48cb-9b68-4e45c3f8ba76",
   "metadata": {},
   "outputs": [],
   "source": [
    "#creating a dataframe for actual and predicted test data\n",
    "actual_predict_test[\"actual\"]=test_data_y\n",
    "actual_predict_test[\"predicted\"]=test_predcition"
   ]
  },
  {
   "cell_type": "code",
   "execution_count": 91,
   "id": "5c65266a-4e9c-4bd4-abe1-8cc90a611b79",
   "metadata": {},
   "outputs": [
    {
     "data": {
      "text/html": [
       "<div>\n",
       "<style scoped>\n",
       "    .dataframe tbody tr th:only-of-type {\n",
       "        vertical-align: middle;\n",
       "    }\n",
       "\n",
       "    .dataframe tbody tr th {\n",
       "        vertical-align: top;\n",
       "    }\n",
       "\n",
       "    .dataframe thead th {\n",
       "        text-align: right;\n",
       "    }\n",
       "</style>\n",
       "<table border=\"1\" class=\"dataframe\">\n",
       "  <thead>\n",
       "    <tr style=\"text-align: right;\">\n",
       "      <th></th>\n",
       "      <th>actual</th>\n",
       "      <th>predicted</th>\n",
       "    </tr>\n",
       "  </thead>\n",
       "  <tbody>\n",
       "    <tr>\n",
       "      <th>0</th>\n",
       "      <td>2865.57</td>\n",
       "      <td>3078.747141</td>\n",
       "    </tr>\n",
       "    <tr>\n",
       "      <th>1</th>\n",
       "      <td>4283.80</td>\n",
       "      <td>4534.964641</td>\n",
       "    </tr>\n",
       "    <tr>\n",
       "      <th>2</th>\n",
       "      <td>5067.83</td>\n",
       "      <td>5322.154456</td>\n",
       "    </tr>\n",
       "    <tr>\n",
       "      <th>3</th>\n",
       "      <td>4624.30</td>\n",
       "      <td>4888.708180</td>\n",
       "    </tr>\n",
       "    <tr>\n",
       "      <th>4</th>\n",
       "      <td>4820.59</td>\n",
       "      <td>5065.127362</td>\n",
       "    </tr>\n",
       "  </tbody>\n",
       "</table>\n",
       "</div>"
      ],
      "text/plain": [
       "    actual    predicted\n",
       "0  2865.57  3078.747141\n",
       "1  4283.80  4534.964641\n",
       "2  5067.83  5322.154456\n",
       "3  4624.30  4888.708180\n",
       "4  4820.59  5065.127362"
      ]
     },
     "execution_count": 91,
     "metadata": {},
     "output_type": "execute_result"
    }
   ],
   "source": [
    "actual_predict_test.head()"
   ]
  },
  {
   "cell_type": "code",
   "execution_count": 101,
   "id": "88616d0b-2bb6-4301-9fdb-b0cb7ccd5caf",
   "metadata": {},
   "outputs": [
    {
     "data": {
      "image/png": "[encoded data removed]",
      "text/plain": [
       "<Figure size 600x600 with 3 Axes>"
      ]
     },
     "metadata": {},
     "output_type": "display_data"
    }
   ],
   "source": [
    "sns.jointplot(x=\"actual\",y=\"predicted\",data=actual_predict_train,kind=\"reg\")\n",
    "plt.show()"
   ]
  },
  {
   "cell_type": "code",
   "execution_count": 103,
   "id": "21258276-d0bf-4dc4-92c9-2f8b74a56c3b",
   "metadata": {},
   "outputs": [
    {
     "data": {
      "image/png": "[encoded data removed]",
      "text/plain": [
       "<Figure size 600x600 with 3 Axes>"
      ]
     },
     "metadata": {},
     "output_type": "display_data"
    }
   ],
   "source": [
    "sns.jointplot(x=\"actual\",y=\"predicted\",data=actual_predict_test,kind=\"reg\")\n",
    "plt.show()"
   ]
  },
  {
   "cell_type": "code",
   "execution_count": null,
   "id": "39af92f1-c560-45c4-9d18-463bc3e1a92e",
   "metadata": {},
   "outputs": [],
   "source": []
  }
 ],
 "metadata": {
  "kernelspec": {
   "display_name": "Python 3 (ipykernel)",
   "language": "python",
   "name": "python3"
  },
  "language_info": {
   "codemirror_mode": {
    "name": "ipython",
    "version": 3
   },
   "file_extension": ".py",
   "mimetype": "text/x-python",
   "name": "python",
   "nbconvert_exporter": "python",
   "pygments_lexer": "ipython3",
   "version": "3.11.9"
  }
 },
 "nbformat": 4,
 "nbformat_minor": 5
}
